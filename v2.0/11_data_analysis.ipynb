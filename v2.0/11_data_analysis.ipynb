{
 "cells": [
  {
   "cell_type": "code",
   "execution_count": 10,
   "metadata": {},
   "outputs": [
    {
     "name": "stdout",
     "output_type": "stream",
     "text": [
      "     기관명    소계  2013년도 이전  2014년  2015년  2016년\n",
      "0    강남구  2780       1292    430    584    932\n",
      "1    강동구   773        379     99    155    377\n",
      "2    강북구   748        369    120    138    204\n",
      "3    강서구   884        388    258    184     81\n",
      "4    관악구  1496        846    260    390    613\n",
      "5    광진구   707        573     78     53    174\n",
      "6    구로구  1561       1142    173    246    323\n",
      "7    금천구  1015        674     51    269    354\n",
      "8    노원구  1265        542     57    451    516\n",
      "9    도봉구   485        238    159     42    386\n",
      "10  동대문구  1294       1070     23    198    579\n",
      "11   동작구  1091        544    341    103    314\n",
      "12   마포구   574        314    118    169    379\n",
      "13  서대문구   962        844     50     68    292\n",
      "14   서초구  1930       1406    157    336    398\n",
      "15   성동구  1062        730     91    241    265\n",
      "16   성북구  1464       1009     78    360    204\n",
      "17   송파구   618        529     21     68    463\n",
      "18   양천구  2034       1843    142     30    467\n",
      "19  영등포구   904        495    214    195    373\n",
      "20   용산구  1624       1368    218    112    398\n",
      "21   은평구  1873       1138    224    278    468\n",
      "22   종로구  1002        464    314    211    630\n",
      "23    중구   671        413    190     72    348\n",
      "24   중랑구   660        509    121    177    109\n",
      "<class 'pandas.core.frame.DataFrame'>\n"
     ]
    }
   ],
   "source": [
    "import pandas as pd\n",
    "cctv_seoul = pd.read_csv('./data/01. CCTV_in_Seoul.csv', encoding='utf-8')\n",
    "print(cctv_seoul)\n",
    "print(type(cctv_seoul))"
   ]
  },
  {
   "cell_type": "code",
   "execution_count": 9,
   "metadata": {},
   "outputs": [
    {
     "name": "stdout",
     "output_type": "stream",
     "text": [
      "       지역                   상호                              주소\n",
      "0   서울특별시          (주)보성 세곡주유소        서울특별시 강남구  헌릉로 731 (세곡동)\n",
      "1   서울특별시              SK서광주유소            서울 강남구 역삼로 142 (역삼동)\n",
      "2   서울특별시   현대오일뱅크㈜ 직영 도곡셀프주유소     서울특별시 강남구  남부순환로 2718 (도곡동)\n",
      "3   서울특별시      (주)정원이디에쓰 산성주유소            서울 강남구 헌릉로 730 (세곡동)\n",
      "4   서울특별시       현대오일뱅크(주)유진주유소            서울 강남구 논현로 152 (도곡동)\n",
      "5   서울특별시          (주)한진 도곡주유소        서울특별시 강남구  도곡로 162 (도곡동)\n",
      "6   서울특별시                방죽주유소        서울특별시 강남구 밤고개로 215 (율현동)\n",
      "7   서울특별시         (주)동하힐탑셀프주유소            서울 강남구 논현로 640 (논현동)\n",
      "8   서울특별시          대동석유 압구정주유소        서울특별시 강남구  언주로 842 (신사동)\n",
      "9   서울특별시        주)중앙에너비스 수서지점        서울특별시 강남구  광평로 202 (수서동)\n",
      "10  서울특별시                청명주유소        서울특별시 강남구  역삼로 205 (역삼동)\n",
      "11  서울특별시          세진에너지 개포주유소           서울 강남구 양재대로 339 (개포동)\n",
      "12  서울특별시              자곡셀프주유소       서울특별시 강남구  밤고개로 120 (자곡동)\n",
      "13  서울특별시           주식회사 논현에너지            서울 강남구 학동로 229 (논현동)\n",
      "14  서울특별시       sk네트웍스(주)매봉주유소  서울특별시 강남구  언주로 307 (역삼동) 매봉주유소\n",
      "15  서울특별시       제이에이치에너지개나리주유소        서울특별시 강남구  언주로 423 (역삼동)\n",
      "16  서울특별시                역삼주유소        서울특별시 강남구  논현로 426 (역삼동)\n",
      "17  서울특별시               삼성로주유소        서울특별시 강남구  삼성로 563 (삼성동)\n",
      "18  서울특별시            SK서광그린주유소         서울특별시 강남구 봉은사로 222(역삼동)\n",
      "19  서울특별시                일원주유소          서울 강남구 양재대로55길 3 (일원동)\n",
      "<class 'pandas.core.frame.DataFrame'>\n"
     ]
    }
   ],
   "source": [
    "gas_station = pd.read_excel('./data/지역_위치별(주유소).xls', usecols='A:C', header=2, nrows=20)\n",
    "print(gas_station)\n",
    "print(type(gas_station))"
   ]
  },
  {
   "cell_type": "code",
   "execution_count": 11,
   "metadata": {},
   "outputs": [
    {
     "name": "stdout",
     "output_type": "stream",
     "text": [
      "0    1\n",
      "1    3\n",
      "2    5\n",
      "3    7\n",
      "dtype: int64\n"
     ]
    }
   ],
   "source": [
    "s = pd.Series([1, 3, 5, 7]) # 1d data\n",
    "print(s)"
   ]
  },
  {
   "cell_type": "code",
   "execution_count": 14,
   "metadata": {},
   "outputs": [
    {
     "name": "stdout",
     "output_type": "stream",
     "text": [
      "     기관명    소계  2013년도 이전  2014년  2015년  2016년  2016년도 증가율 (2013년도 이전 대비)\n",
      "0    강남구  2780       1292    430    584    932                  72.136223\n",
      "1    강동구   773        379     99    155    377                  99.472296\n",
      "2    강북구   748        369    120    138    204                  55.284553\n",
      "3    강서구   884        388    258    184     81                  20.876289\n",
      "4    관악구  1496        846    260    390    613                  72.458629\n",
      "5    광진구   707        573     78     53    174                  30.366492\n",
      "6    구로구  1561       1142    173    246    323                  28.283713\n",
      "7    금천구  1015        674     51    269    354                  52.522255\n",
      "8    노원구  1265        542     57    451    516                  95.202952\n",
      "9    도봉구   485        238    159     42    386                 162.184874\n",
      "10  동대문구  1294       1070     23    198    579                  54.112150\n",
      "11   동작구  1091        544    341    103    314                  57.720588\n",
      "12   마포구   574        314    118    169    379                 120.700637\n",
      "13  서대문구   962        844     50     68    292                  34.597156\n",
      "14   서초구  1930       1406    157    336    398                  28.307255\n",
      "15   성동구  1062        730     91    241    265                  36.301370\n",
      "16   성북구  1464       1009     78    360    204                  20.218038\n",
      "17   송파구   618        529     21     68    463                  87.523629\n",
      "18   양천구  2034       1843    142     30    467                  25.339121\n",
      "19  영등포구   904        495    214    195    373                  75.353535\n",
      "20   용산구  1624       1368    218    112    398                  29.093567\n",
      "21   은평구  1873       1138    224    278    468                  41.124780\n",
      "22   종로구  1002        464    314    211    630                 135.775862\n",
      "23    중구   671        413    190     72    348                  84.261501\n",
      "24   중랑구   660        509    121    177    109                  21.414538\n"
     ]
    }
   ],
   "source": [
    "cctv_seoul.sort_values(by=\"소계\", ascending=True)\n",
    "cctv_seoul['2016년도 증가율 (2013년도 이전 대비)'] = (cctv_seoul['2016년'] / cctv_seoul['2013년도 이전']) * 100\n",
    "print(cctv_seoul)"
   ]
  },
  {
   "cell_type": "code",
   "execution_count": 50,
   "metadata": {},
   "outputs": [
    {
     "name": "stdout",
     "output_type": "stream",
     "text": [
      "null value find at Int64Index([26], dtype='int64')\n"
     ]
    }
   ],
   "source": [
    "pop_seoul = pd.read_excel('./data/01. population_in_Seoul.xls', header=2)\n",
    "pop_seoul['고령자 비율'] = pop_seoul['65세이상고령자'] / pop_seoul['계'] * 100\n",
    "\n",
    "\n",
    "if all(pop_seoul['고령자 비율'].isnull() == False):\n",
    "    data = pop_seoul.sort_values(by='고령자 비율', ascending=False).iloc[0, 1]\n",
    "    data\n",
    "else:\n",
    "    print('null value find at', pop_seoul[pop_seoul['고령자 비율'].isnull() == True].index)"
   ]
  },
  {
   "cell_type": "code",
   "execution_count": 73,
   "metadata": {},
   "outputs": [
    {
     "name": "stderr",
     "output_type": "stream",
     "text": [
      "UsageError: unrecognized arguments: # matplotlib graph result inline\n"
     ]
    }
   ],
   "source": [
    "import matplotlib.pyplot as plt\n",
    "%matplotlib inline # matplotlib graph result inline"
   ]
  },
  {
   "cell_type": "code",
   "execution_count": 74,
   "metadata": {},
   "outputs": [
    {
     "data": {
      "image/png": "[encoded data removed]",
      "text/plain": [
       "<Figure size 432x288 with 1 Axes>"
      ]
     },
     "metadata": {
      "needs_background": "light"
     },
     "output_type": "display_data"
    }
   ],
   "source": [
    "plt.figure() \n",
    "plt.title('graph')\n",
    "plt.xlabel('x', fontsize=20)\n",
    "plt.ylabel('y', fontsize=20)\n",
    "plt.grid()\n",
    "\n",
    "plt.plot([1, 2, 3], [1, 2, 3], color='lightgray', linestyle='dashed', lw=10) # x: 1, 2, 3, y: 1, 2, 3\n",
    "plt.xlim(0, 2)\n",
    "plt.ylim(0, 2)\n",
    "\n",
    "plt.show()"
   ]
  },
  {
   "cell_type": "code",
   "execution_count": 91,
   "metadata": {},
   "outputs": [
    {
     "data": {
      "image/png": "[encoded data removed]",
      "text/plain": [
       "<Figure size 432x288 with 1 Axes>"
      ]
     },
     "metadata": {
      "needs_background": "light"
     },
     "output_type": "display_data"
    }
   ],
   "source": [
    "import numpy as np\n",
    "\n",
    "plt.figure() \n",
    "plt.title('graph')\n",
    "plt.xlabel('x', fontsize=20)\n",
    "plt.ylabel('y', fontsize=20)\n",
    "plt.grid()\n",
    "\n",
    "\n",
    "t = np.arange(0, 12, 0.01) # x 좌표\n",
    "plt.plot(t, np.sin(t), label='sin', color='red', linestyle='dashed', lw=5)\n",
    "plt.plot(t, np.cos(t), label='cos', color='purple', linestyle='dashed', lw=5)\n",
    "plt.legend(fontsize=15, loc='lower right')\n",
    "\n",
    "#plt.xlim(0, 2)\n",
    "#plt.ylim(0, 2)\n",
    "\n",
    "plt.show()"
   ]
  },
  {
   "cell_type": "code",
   "execution_count": null,
   "metadata": {},
   "outputs": [],
   "source": []
  }
 ],
 "metadata": {
  "interpreter": {
   "hash": "e5cae86539e094517c315249690436d6e622fab0c0ee02d78a0629e2572f76ad"
  },
  "kernelspec": {
   "display_name": "Python 3.10.4 64-bit",
   "language": "python",
   "name": "python3"
  },
  "language_info": {
   "codemirror_mode": {
    "name": "ipython",
    "version": 3
   },
   "file_extension": ".py",
   "mimetype": "text/x-python",
   "name": "python",
   "nbconvert_exporter": "python",
   "pygments_lexer": "ipython3",
   "version": "3.10.4"
  },
  "orig_nbformat": 4
 },
 "nbformat": 4,
 "nbformat_minor": 2
}
